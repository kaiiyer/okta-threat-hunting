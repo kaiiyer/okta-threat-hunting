{
 "cells": [
  {
   "cell_type": "markdown",
   "id": "097d8f92-bfcc-4a85-a8c5-1ac69f0a74d0",
   "metadata": {},
   "source": [
    "# Guardians of Identity: OKTA's Underworld"
   ]
  },
  {
   "cell_type": "markdown",
   "id": "8677d91f-a922-4039-963e-491b390fe980",
   "metadata": {},
   "source": [
    "## IMPORTS"
   ]
  },
  {
   "cell_type": "code",
   "execution_count": null,
   "id": "b8bd7b8e-ab66-4060-9da1-40c282b748cd",
   "metadata": {
    "tags": []
   },
   "outputs": [],
   "source": [
    "import pandas as pd\n",
    "from datetime import datetime, timedelta\n",
    "from IPython.display import Image\n",
    "from datetime import datetime, timedelta\n",
    "import pytz\n",
    "import matplotlib.pyplot as plt\n",
    "import community.community_louvain\n",
    "import networkx as nx\n",
    "from matplotlib.pyplot import figure\n",
    "Image(filename='OKTA.png') "
   ]
  },
  {
   "cell_type": "markdown",
   "id": "dec17e31-7d3b-48c5-a6c8-849ac275417b",
   "metadata": {},
   "source": [
    "## Introduction to OKTA"
   ]
  },
  {
   "cell_type": "markdown",
   "id": "3bcc65fd-17a1-47a3-bae6-4a994bc5278d",
   "metadata": {},
   "source": [
    "OKTA is a cloud-based identity and access management (IAM) platform that allows organizations to securely manage user identities and access to various applications and resources. OKTA provides single sign-on (SSO), multi-factor authentication (MFA), user provisioning, and other IAM capabilities to enhance security and streamline access management processes"
   ]
  },
  {
   "cell_type": "markdown",
   "id": "cd354440-b66f-4730-8723-c4874207b38c",
   "metadata": {},
   "source": [
    "### System Log API\n",
    "The Okta System Log records system events that are related to your organization in order to provide an audit trail that can be used to understand platform activity and to diagnose problems. The Okta System Log API provides near real-time, read-only access to your organization's system log"
   ]
  },
  {
   "cell_type": "markdown",
   "id": "e707b285-8e74-45c3-9cdd-230f46ded000",
   "metadata": {},
   "source": [
    "Common use cases for the System Log API:\n",
    "\n",
    " - Ingesting events into a SIEM platform for security analysis and correlation with other relevant security events\n",
    " - Ingesting events into a data warehouse or data lake for user activity analysis or complex security detections\n",
    " - Ingesting events into an observability system for application monitoring and debugging\n",
    " - As a source for customer business logic to react to events asynchronously, such as a periodic collection of new user IDs when self-service registration is enabled\n",
    "\n",
    "    Note: The System Log API isn't intended for use as a Database as a Service (DBaaS) or to serve data directly to downstream consumers without an intermediate data store"
   ]
  },
  {
   "cell_type": "markdown",
   "id": "5fb1bbc2-3a51-43f9-aaed-578a691b029e",
   "metadata": {},
   "source": [
    "### LogEvent Attributes"
   ]
  },
  {
   "cell_type": "markdown",
   "id": "1db99c36-3c91-4f29-8522-3ef65ac64012",
   "metadata": {},
   "source": [
    "| Property              | Description                                     | DataType       | Nullable | Unique | Readonly | MinLength | MaxLength |\n",
    "|-----------------------|-------------------------------------------------|----------------|----------|--------|----------|-----------|-----------|\n",
    "| uuid                  | Unique identifier for an individual event       | String         | FALSE    | TRUE   | TRUE     |           |           |\n",
    "| published             | Timestamp when the event is published           | Date           | FALSE    | FALSE  | TRUE     | 1         | 255       |\n",
    "| eventType             | Type of [event](https://developer.okta.com/docs/reference/api/event-types/) that is published                | String         | FALSE    | FALSE  | TRUE     | 1         | 255       |\n",
    "| version               | Versioning indicator                            | String         | FALSE    | FALSE  | TRUE     | 1         | 255       |\n",
    "| severity              | Indicates how severe the event is               | String         | FALSE    | FALSE  | TRUE     | 1         | 255       |\n",
    "| legacyEventType       | Associated Events API Action objectType attribute value | String   | TRUE     | FALSE  | TRUE     | 1         | 255       |\n",
    "| displayMessage        | The display message for an event                | String         | TRUE     | FALSE  | TRUE     | 1         | 255       |\n",
    "| actor                 | Describes the entity that performs an action    | Actor object   | TRUE     | FALSE  | TRUE     |           |           |\n",
    "| client                | The client that requests an action              | Client object  | TRUE     | FALSE  | TRUE     |           |           |\n",
    "| request               | The request that initiates an action            | Request object | TRUE     | FALSE  | TRUE     |           |           |\n",
    "| outcome               | The outcome of an action                        | Outcome object | TRUE     | FALSE  | TRUE     |           |           |\n",
    "| target                | Zero or more targets of an action               | Array of Target object | TRUE | FALSE  | TRUE     |           |           |\n",
    "| transaction           | The transaction details of an action             | Transaction object | TRUE  | FALSE  | TRUE     |           |           |\n",
    "| debugContext          | The debug request data of an action             | DebugContext object | TRUE  | FALSE  | TRUE     |           |           |\n",
    "| authenticationContext | The authentication data of an action            | AuthenticationContext object | TRUE | FALSE | TRUE |        |           |\n",
    "| securityContext       | The security data of an action                  | SecurityContext object | TRUE | FALSE | TRUE |        |           |\n"
   ]
  },
  {
   "cell_type": "markdown",
   "id": "548493df-fe1a-4300-87ae-d920ec036004",
   "metadata": {},
   "source": [
    "### Example LogEvent Object"
   ]
  },
  {
   "cell_type": "raw",
   "id": "2b8ef37f-7e39-4d0f-9a80-e54ff75704b2",
   "metadata": {},
   "source": [
    "{\n",
    "  \"version\": \"0\",\n",
    "  \"severity\": \"INFO\",\n",
    "  \"client\": {\n",
    "    \"zone\": \"OFF_NETWORK\",\n",
    "    \"device\": \"Unknown\",\n",
    "    \"userAgent\": {\n",
    "      \"os\": \"Unknown\",\n",
    "      \"browser\": \"UNKNOWN\",\n",
    "      \"rawUserAgent\": \"UNKNOWN-DOWNLOAD\"\n",
    "    },\n",
    "    \"ipAddress\": \"12.97.85.90\"\n",
    "  },\n",
    "  \"actor\": {\n",
    "    \"id\": \"00u1qw1mqitPHM8AJ0g7\",\n",
    "    \"type\": \"User\",\n",
    "    \"alternateId\": \"admin@example.com\",\n",
    "    \"displayName\": \"John Doe\"\n",
    "  },\n",
    "  \"outcome\": {\n",
    "    \"result\": \"SUCCESS\"\n",
    "  },\n",
    "  \"uuid\": \"f790999f-fe87-467a-9880-6982a583986c\",\n",
    "  \"published\": \"2017-09-31T22:23:07.777Z\",\n",
    "  \"eventType\": \"user.session.start\",\n",
    "  \"displayMessage\": \"User login to Okta\",\n",
    "  \"transaction\": {\n",
    "    \"type\": \"WEB\",\n",
    "    \"id\": \"V04Oy4ubUOc5UuG6s9DyNQAABtc\"\n",
    "  },\n",
    "  \"debugContext\": {\n",
    "    \"debugData\": {\n",
    "      \"requestUri\": \"/login/do-login\"\n",
    "    }\n",
    "  },\n",
    "  \"legacyEventType\": \"core.user_auth.login_success\",\n",
    "  \"authenticationContext\": {\n",
    "    \"authenticationStep\": 0,\n",
    "    \"externalSessionId\": \"1013FfF-DKQSvCI4RVXChzX-w\"\n",
    "  }\n",
    "}"
   ]
  },
  {
   "cell_type": "code",
   "execution_count": null,
   "id": "fef18431-8af9-40be-910d-ae3b9af59744",
   "metadata": {},
   "outputs": [],
   "source": [
    "Image(filename='jsoncrack.com.png') "
   ]
  },
  {
   "cell_type": "markdown",
   "id": "e690f0d8-52b6-4214-a536-b3c7060137a3",
   "metadata": {},
   "source": [
    "## User Account Hijack"
   ]
  },
  {
   "cell_type": "code",
   "execution_count": null,
   "id": "f80a6ef5-1a7e-4680-8956-2a11c378e347",
   "metadata": {
    "tags": []
   },
   "outputs": [],
   "source": [
    "%%time\n",
    "\n",
    "#%load_ext cudf.pandas --> pandas API is now GPU accelerated\n",
    "#import modin.pandas as pd --> modin.pandas DataFrame is an extremely light-weight parallel DataFrame\n",
    "\n",
    "df = pd.read_csv(\"./OKTA_Logs_1.csv\")\n",
    "df.columns, df.shape"
   ]
  },
  {
   "cell_type": "code",
   "execution_count": null,
   "id": "2f03a8ef-b7c0-4ccf-9714-7fc7572e291f",
   "metadata": {
    "tags": []
   },
   "outputs": [],
   "source": [
    "import pandas as pd\n",
    "\n",
    "# Convert datetime.now() to UTC\n",
    "df['@timestamp'] = pd.to_datetime(df['@timestamp'])\n",
    "now_utc = datetime.now(pytz.utc)\n",
    "\n",
    "# Filter for events\n",
    "filtered_df = df[\n",
    "    (df['eventType'].isin(['user.mfa.factor.activate', 'user.mfa.factor.deactivate', 'user.account.reset_password', 'user.session.start', 'device.user.add'])) &\n",
    "    (df['outcome.result'] == 'SUCCESS')\n",
    "    #(df['@timestamp'] > (now_utc - timedelta(weeks=1)))\n",
    "]\n",
    "\n",
    "# Apply aggregations\n",
    "result_df = filtered_df.groupby([\"client.ipAddress\", \"client.geographicalContext.country\", \"actor.alternateId\"]).agg(\n",
    "    first_event=pd.NamedAgg(column='@timestamp', aggfunc='min'),\n",
    "    last_event=pd.NamedAgg(column='@timestamp', aggfunc='max'),\n",
    "    unique_events=pd.NamedAgg(column='eventType', aggfunc='nunique'),  # nunique() is for unique values\n",
    "    event_count=pd.NamedAgg(column='@timestamp', aggfunc='size'),  # size() is for counting rows\n",
    "    events=pd.NamedAgg(column='eventType', aggfunc=lambda x: list(set(x))),\n",
    "    duration_epoch=pd.NamedAgg(column='@timestamp', aggfunc=lambda x: (x.max() - x.min()).total_seconds())\n",
    ").reset_index()\n",
    "\n",
    "# Apply Threshold depending on your environment\n",
    "result_df = result_df[result_df['unique_events'] >= 2]\n",
    "result_df"
   ]
  },
  {
   "cell_type": "markdown",
   "id": "fb240cad-8b23-40b4-8c74-7d75592ca429",
   "metadata": {},
   "source": [
    "## Password Spray"
   ]
  },
  {
   "cell_type": "code",
   "execution_count": null,
   "id": "58169119-565f-4a24-a838-55e323c0872c",
   "metadata": {
    "tags": []
   },
   "outputs": [],
   "source": [
    "filtered_df = df[\n",
    "    (df['eventType'].isin(['security.threat.detected'])) & \n",
    "    (df['outcome.reason'] == 'Password Spray')]\n",
    "filtered_df.shape"
   ]
  },
  {
   "cell_type": "code",
   "execution_count": null,
   "id": "15329da5-a4a0-454c-ae95-805db7b79b6a",
   "metadata": {},
   "outputs": [],
   "source": [
    "result_df = filtered_df[['@timestamp', 'eventType', 'client.userAgent.rawUserAgent', 'client.geographicalContext.country', 'outcome.result', 'outcome.reason', 'actor.alternateId', 'client.ipAddress']]\n",
    "\n",
    "# Drop duplicates based on the 'client.ipAddress' column\n",
    "result_df = result_df.drop_duplicates(subset=['client.ipAddress'])\n",
    "result_df.reset_index(drop=True, inplace=True)\n",
    "\n",
    "result_df"
   ]
  },
  {
   "cell_type": "markdown",
   "id": "c4bcdafb-6de1-44b3-b94c-034a562d5781",
   "metadata": {},
   "source": [
    "## Suspicious Tenant Takeover"
   ]
  },
  {
   "cell_type": "code",
   "execution_count": null,
   "id": "f1128d22-129a-46a0-bf52-85c96582a86d",
   "metadata": {},
   "outputs": [],
   "source": [
    "%%time\n",
    "\n",
    "df = pd.read_csv(\"./OKTA_Logs_3.csv\")\n",
    "df.shape"
   ]
  },
  {
   "cell_type": "code",
   "execution_count": null,
   "id": "080294cc-dc63-472c-b3ac-0fd6d7bd8ea6",
   "metadata": {},
   "outputs": [],
   "source": [
    "df['target'][0]"
   ]
  },
  {
   "cell_type": "code",
   "execution_count": null,
   "id": "8fc27f60-8e7a-44c5-b011-26fc45f4c0f9",
   "metadata": {
    "tags": []
   },
   "outputs": [],
   "source": [
    "# Extract 'alternateId' from the dictionary within 'target' column\n",
    "\n",
    "from ast import literal_eval\n",
    "\n",
    "df['target'] = df['target'].apply(literal_eval)\n",
    "df['TargetalternateId'] = df['target'].apply(lambda x: x[0]['alternateId'] if x else None)\n",
    "df['TargetalternateId'][0]"
   ]
  },
  {
   "cell_type": "code",
   "execution_count": null,
   "id": "694271ed-881f-4e98-bb14-619d1617ec3b",
   "metadata": {
    "tags": []
   },
   "outputs": [],
   "source": [
    "# Filter for events\n",
    "filtered_df = df[\n",
    "    (df['eventType'].isin(['user.lifecycle.deactivate', 'user.lifecycle.suspend'])) &\n",
    "    (df['outcome.result'] == 'SUCCESS')\n",
    "]\n",
    "\n",
    "# Apply aggregations\n",
    "result_df = filtered_df.groupby([\"client.ipAddress\", \"client.geographicalContext.country\", \"actor.alternateId\"]).agg(\n",
    "    first_event=pd.NamedAgg(column='@timestamp', aggfunc='min'),\n",
    "    last_event=pd.NamedAgg(column='@timestamp', aggfunc='max'),\n",
    "    unique_suspended_users=('TargetalternateId', lambda x: x[df[\"eventType\"] == 'user.lifecycle.suspend'].nunique()),\n",
    "    unique_deactivated_users=('TargetalternateId', lambda x: x[df[\"eventType\"] == 'user.lifecycle.deactivate'].nunique())\n",
    ").reset_index()\n",
    "\n",
    "# Apply Threshold depending on your environment\n",
    "result_df = result_df[\n",
    "    (result_df['unique_suspended_users'] >= 1) | (result_df['unique_deactivated_users'] >= 1)\n",
    "]\n",
    "\n",
    "result_df"
   ]
  },
  {
   "cell_type": "markdown",
   "id": "9f8fe3dd-96b7-4bea-b283-c219ca6d48e4",
   "metadata": {},
   "source": [
    "## Admin Privileges Revoked"
   ]
  },
  {
   "cell_type": "code",
   "execution_count": null,
   "id": "98877912-2e20-4a16-9ac5-c3ea1220636a",
   "metadata": {},
   "outputs": [],
   "source": [
    "%%time\n",
    "\n",
    "df = pd.read_csv(\"./OKTA_Logs_2.csv\")\n",
    "df.shape"
   ]
  },
  {
   "cell_type": "code",
   "execution_count": null,
   "id": "dccfb0f0-ee04-41c0-84c7-f359654a17f7",
   "metadata": {},
   "outputs": [],
   "source": [
    "# Extract 'alternateId' from the dictionary within 'target' column\n",
    "    \n",
    "df['target'] = df['target'].apply(literal_eval)\n",
    "df['TargetalternateId'] = df['target'].apply(lambda x: x[0]['alternateId'] if x else None)\n",
    "df['TargetalternateId'][0]"
   ]
  },
  {
   "cell_type": "code",
   "execution_count": null,
   "id": "3b5a8027-adfe-4beb-96e0-994e7e4325fa",
   "metadata": {},
   "outputs": [],
   "source": [
    "filtered_df = df[\n",
    "    (df['eventType'].isin(['user.account.privilege.revoke', 'group.privilege.revoke'])) &\n",
    "    (df['outcome.result'] == 'SUCCESS')\n",
    "]\n",
    "\n",
    "# Apply aggregations    \n",
    "result_df = filtered_df.groupby([\"actor.alternateId\"]).agg(\n",
    "    first_event=pd.NamedAgg(column='@timestamp', aggfunc='min'),\n",
    "    last_event=pd.NamedAgg(column='@timestamp', aggfunc='max'),\n",
    "    revoked_users=('TargetalternateId', lambda x: (x[df[\"eventType\"] == 'user.account.privilege.revoke'].nunique())),\n",
    "    revoked_groups=('TargetalternateId', lambda x: (x[df[\"eventType\"] == 'group.account.privilege.revoke'].nunique()))\n",
    ").reset_index()\n",
    "\n",
    "# Apply Threshold depending on your environment\n",
    "result_df = result_df[\n",
    "    (result_df['revoked_users'] > 1) | (result_df['revoked_groups'] > 1)\n",
    "]\n",
    "\n",
    "result_df"
   ]
  },
  {
   "cell_type": "markdown",
   "id": "f5353660-9e06-4f9d-8e82-7926c46ff1de",
   "metadata": {},
   "source": [
    "## OKTA ThreatInsight Alerts"
   ]
  },
  {
   "cell_type": "code",
   "execution_count": null,
   "id": "340a4a08-43fc-4c38-a62a-8becf4f1f621",
   "metadata": {},
   "outputs": [],
   "source": [
    "%%time\n",
    "\n",
    "df = pd.read_csv(\"./OKTA_Logs_4.csv\")\n",
    "df.shape"
   ]
  },
  {
   "cell_type": "code",
   "execution_count": null,
   "id": "36944be0-31fb-44e3-9807-b9639840846b",
   "metadata": {},
   "outputs": [],
   "source": [
    "df.columns"
   ]
  },
  {
   "cell_type": "code",
   "execution_count": null,
   "id": "9c6603ad-17a8-4c78-af5d-911f027e1aa0",
   "metadata": {},
   "outputs": [],
   "source": [
    "\n",
    "# Filter the DataFrame based on eventType condition\n",
    "filtered_df = df[df['eventType'] == 'security.threat.detected']\n",
    "\n",
    "# Group by fields and aggregate\n",
    "result_df = filtered_df.groupby([\"actor.displayName\", \"actor.type\", \"actor.alternateId\", \"eventType\", \"debugContext.debugData.threatDetections\"]).agg(\n",
    "    first_event=('@timestamp', 'min'),\n",
    "    last_event=('@timestamp', 'max')\n",
    ").reset_index()\n",
    "\n",
    "result_df"
   ]
  },
  {
   "cell_type": "markdown",
   "id": "c0a627d6-b760-4010-8965-98887489be23",
   "metadata": {},
   "source": [
    "## Session Hijacking"
   ]
  },
  {
   "cell_type": "code",
   "execution_count": null,
   "id": "5867c575-3ccf-472f-aaf4-1651b1871cd6",
   "metadata": {},
   "outputs": [],
   "source": [
    "%%time\n",
    "\n",
    "df = pd.read_csv(\"./OKTA_Logs_5.csv\")\n",
    "df.shape"
   ]
  },
  {
   "cell_type": "code",
   "execution_count": null,
   "id": "7a8e3707-91d2-464f-9515-8ab53eac227f",
   "metadata": {},
   "outputs": [],
   "source": [
    "\n",
    "filtered_df = df[\n",
    "    (df['eventType'] == 'user.session.start') & \n",
    "    (df['outcome.result'].isin(['ALLOW', 'SUCCESS']))\n",
    "]\n",
    "\n",
    "# Filter the DataFrame based on the condition dtHash is not null\n",
    "filtered_df = df[df['debugContext.debugData.dtHash'].notnull()]\n",
    "\n",
    "# Group by actorAlternateId and dtHash, and aggregate\n",
    "result_df = filtered_df.groupby([\"actor.alternateId\", \"debugContext.debugData.dtHash\"]).agg(\n",
    "    unique_client_countries=('client.geographicalContext.country', 'nunique')\n",
    ")\n",
    "\n",
    "# Filter based on the condition count of distinct clientCountry > 1\n",
    "result_df = result_df[result_df['unique_client_countries'] > 1]\n",
    "\n",
    "result_df"
   ]
  },
  {
   "cell_type": "code",
   "execution_count": null,
   "id": "c44acffd-3d3e-462d-8488-e7dbaebf1708",
   "metadata": {},
   "outputs": [],
   "source": [
    "\n",
    "# Filter the DataFrame based on eventType condition\n",
    "filtered_df = df[\n",
    "    (df['eventType'] == 'policy.evaluate_sign_on') & \n",
    "    (df['outcome.result'].isin(['ALLOW', 'SUCCESS']))\n",
    "]\n",
    "\n",
    "# Perform aggregation using pandas\n",
    "result_df = filtered_df.groupby(['debugContext.debugData.dtHash', 'actor.alternateId']).agg(\n",
    "    earliest_time=('time', 'min'),\n",
    "    src_ip=('client.ipAddress', lambda x: ','.join(x.unique())),\n",
    "    userAgent=('client.userAgent.rawUserAgent', lambda x: ','.join(x.unique())),\n",
    "    userAgentOS_list=('client.userAgent.os', lambda x: ','.join(x.unique())),\n",
    "    userAgentBrowser_list=('client.userAgent.browser', lambda x: ','.join(x.unique())),\n",
    "    okta_device_os=('device.os_platform', 'first'),\n",
    "    dc_userAgentBrowser=('client.userAgent.browser', 'nunique'),\n",
    "    dc_userAgentOS=('client.userAgent.os', 'nunique'),\n",
    "    dc_src_ip=('client.ipAddress', 'nunique'),\n",
    "    reason=('outcome.reason', 'first')\n",
    ").reset_index()\n",
    "\n",
    "# Rename columns if needed\n",
    "result_df.columns = ['dtHash', 'actor.alternateId', 'earliest_time', 'src_ip', 'userAgent', 'userAgentOS_list', \n",
    "                     'userAgentBrowser_list', 'okta_device_os', 'dc_userAgentBrowser', 'dc_userAgentOS', \n",
    "                     'dc_src_ip', 'reason']\n",
    "\n",
    "# Print or use result_df as needed\n",
    "print(result_df)\n"
   ]
  },
  {
   "cell_type": "markdown",
   "id": "688c1ad3-7641-4198-be82-272802c794d1",
   "metadata": {},
   "source": [
    "## OKTA Session Impersonation"
   ]
  },
  {
   "cell_type": "code",
   "execution_count": null,
   "id": "9d65b710-88f9-49c3-ab2e-5b733c97a91e",
   "metadata": {},
   "outputs": [],
   "source": [
    "\n",
    "# Filter the DataFrame based on eventType condition\n",
    "filtered_df = df[\n",
    "    (df['eventType'].isin([\n",
    "        \"user.session.impersonation.initiate\",\n",
    "        \"user.session.impersonation.grant\",\n",
    "        \"user.session.impersonation.extend\",\n",
    "        \"user.session.impersonation.end\",\n",
    "        \"user.session.impersonation.revoke\"\n",
    "    ]))\n",
    "]\n",
    "\n",
    "# Group by eventType and count occurrences\n",
    "result_df = filtered_df.groupby('eventType').size().reset_index(name='count')\n",
    "\n",
    "# Print or use result_df as needed\n",
    "print(result_df)\n"
   ]
  },
  {
   "cell_type": "markdown",
   "id": "a26849a6-4611-4b95-8f17-2d34f454a5b2",
   "metadata": {},
   "source": [
    "## MFA Push Notifications Fatigue"
   ]
  },
  {
   "cell_type": "code",
   "execution_count": null,
   "id": "b1a8f203-1326-42a9-ab71-c090d9aa1f4a",
   "metadata": {},
   "outputs": [],
   "source": [
    "\n",
    "# Filter the DataFrame based on eventType and time condition\n",
    "filtered_df = df[\n",
    "    (df['eventType'] == 'system.push.send_factor_verify_push') &\n",
    "    (df['time'] > pd.Timestamp.now() - pd.Timedelta(hours=X))  # Replace X with the number of hours\n",
    "]\n",
    "\n",
    "# Group by clientIpAddress and actorAlternateId, and aggregate\n",
    "result_df = filtered_df.groupby([\"client.ipAddres\", \"actor.alternateId\"]).agg(\n",
    "    count_id=('id', 'count'),\n",
    "    firstEvent=('time', 'min'),\n",
    "    lastEvent=('time', 'max')\n",
    ")\n",
    "\n",
    "# Filter based on count_id\n",
    "result_df = result_df[result_df['count_id'] >= 5]  # configurable number of MFA attempts\n",
    "\n",
    "# Sort the DataFrame by count_id in descending order\n",
    "result_df = result_df.sort_values(by='count_id', ascending=False)\n",
    "\n",
    "result_df\n"
   ]
  },
  {
   "cell_type": "markdown",
   "id": "bcf4670d-beca-4f83-a532-74c6b3511f1b",
   "metadata": {},
   "source": [
    "## OKTA Policy Manipulation"
   ]
  },
  {
   "cell_type": "code",
   "execution_count": null,
   "id": "31b60350-5679-4c33-a7aa-6a5466212155",
   "metadata": {
    "collapsed": true,
    "jupyter": {
     "outputs_hidden": true
    },
    "tags": []
   },
   "outputs": [],
   "source": [
    "\n",
    "df['target'] = df['target'].apply(literal_eval)\n",
    "df['targetAlternateId'] = df['target'].apply(lambda x: x[0]['alternateId'] if x else None)\n",
    "\n",
    "# Filter the DataFrame based on eventType condition and actionResult\n",
    "filtered_df = df[\n",
    "    (df['eventType'].isin(['policy.lifecycle.delete', 'policy.lifecycle.update', 'policy.lifecycle.deactivate', 'policy.rule.delete', 'policy.rule.update', 'policy.rule.deactivate'])) &\n",
    "    (df['actionResult'] == 'SUCCESS')\n",
    "]\n",
    "\n",
    "\n",
    "# Group by clientIpAddress, clientCountry, actorAlternateId, and aggregate\n",
    "result_df = merged_df.groupby(['client.ipAddres', 'client.geographicalContext.country', 'actor.alternateId']).agg(\n",
    "    first_event=('@timestamp', 'min'),\n",
    "    last_event=('@timestamp', 'max'),\n",
    "    unique_policies_updated = ('targetAlternateId', lambda x: (x[merged_df['eventType'].isin(['policy.lifecycle.update', 'policy.rule.update'])].nunique())),\n",
    "    unique_policy_rules_deleted = ('targetAlternateId', lambda x: (x[(merged_df['eventType'] == 'policy.rule.update') | (merged_df['eventType'] == 'policy.rule.delete')].nunique())),\n",
    "    unique_policy_deactivated = ('targetAlternateId', lambda x: (x[(merged_df['eventType'] == 'policy.rule.update') | (merged_df['eventType'] == 'policy.lifecycle.deactivate')].nunique())),\n",
    "    event_count=('id', 'count')\n",
    ")\n",
    "\n",
    "# Filter based on the condition \"having count(id) >= 3\"\n",
    "result_df = result_df[result_df['event_count'] >= 3]\n",
    "\n",
    "result_df"
   ]
  },
  {
   "cell_type": "markdown",
   "id": "593ede4a-2a09-4145-8edb-e2a63726af60",
   "metadata": {},
   "source": [
    "## OKTA Auth Policy Downgrade"
   ]
  },
  {
   "cell_type": "code",
   "execution_count": null,
   "id": "365d8846-14bb-42b2-a4ff-4f0d32ca263c",
   "metadata": {},
   "outputs": [],
   "source": [
    "\n",
    "df['target'] = df['target'].apply(literal_eval)\n",
    "df['targetAlternateId'] = df['target'].apply(lambda x: x[0]['alternateId'] if x else None)\n",
    "\n",
    "\n",
    "# Filter the DataFrame based on eventType condition and actionResult\n",
    "filtered_df = df[\n",
    "    (df['eventType'].isin(['policy.lifecycle.update', 'policy.rule.update', 'policy.rule.add'])) &\n",
    "    (df['actionResult'] == 'SUCCESS')\n",
    "]\n",
    "\n",
    "# Group by clientIpAddress, clientCountry, actorAlternateId, and aggregate\n",
    "result_df = merged_df.groupby(['client.ipAddres', 'client.geographicalContext.country', 'actor.alternateId']).agg(\n",
    "    first_event=('@timestamp', 'min'),\n",
    "    last_event=('@timestamp', 'max'),\n",
    "    unique_policies_updated=('targetAlternateId', lambda x: (x[merged_df['eventType'] == 'policy.lifecycle.update'].nunique())),\n",
    "    unique_policy_rules_updated=('targetAlternateId', lambda x: (x[merged_df['eventType'] == 'policy.rule.update'].nunique())),\n",
    "    unique_policy_rules_created=('targetAlternateId', lambda x: (x[merged_df['eventType'] == 'policy.rule.add'].nunique())),\n",
    "    event_count=('id', 'count')\n",
    ")\n",
    "\n",
    "# Filter based on the condition \"having count(id) >= 3\"\n",
    "result_df = result_df[result_df['event_count'] >= 3]\n",
    "\n",
    "result_df"
   ]
  },
  {
   "cell_type": "markdown",
   "id": "8c2da68e-db9e-4c10-8854-aa63e99ffd13",
   "metadata": {},
   "source": [
    "\n"
   ]
  },
  {
   "cell_type": "markdown",
   "id": "aed34de7-5f3a-4c96-938c-c5a7697304f9",
   "metadata": {},
   "source": [
    "## OKTA API Token Manipulation"
   ]
  },
  {
   "cell_type": "code",
   "execution_count": null,
   "id": "8c5acbc8-966d-4132-932c-786604e6a5a3",
   "metadata": {},
   "outputs": [],
   "source": [
    "\n",
    "df['target'] = df['target'].apply(literal_eval)\n",
    "df['targetAlternateId'] = df['target'].apply(lambda x: x[0]['alternateId'] if x else None)\n",
    "\n",
    "\n",
    "# Filter the DataFrame based on eventType condition and actionResult\n",
    "filtered_df = df[\n",
    "    (df['eventType'].isin(['system.api_token.create', 'system.api_token.update'])) &\n",
    "    (df['actionResult'] == 'SUCCESS')\n",
    "]\n",
    "\n",
    "# Group by clientIpAddress, clientCountry, actorAlternateId, and aggregate\n",
    "result_df = merged_df.groupby(['client.ipAddres', 'client.geographicalContext.country', 'actor.alternateId']).agg(\n",
    "    first_event=('@timestamp', 'min'),\n",
    "    last_event=('@timestamp', 'max'),\n",
    "    unique_api_token_created=('targetAlternateId', lambda x: (x[merged_df['eventType'] == 'system.api_token.create'].nunique())),\n",
    "    unique_api_token_updated=('targetAlternateId', lambda x: (x[merged_df['eventType'] == 'system.api_token.update'].nunique())),\n",
    "    event_count=('id', 'count')\n",
    ")\n",
    "\n",
    "# Filter based on the threshold\n",
    "result_df = result_df[result_df['event_count'] >= 5]\n",
    "\n",
    "result_df"
   ]
  },
  {
   "cell_type": "markdown",
   "id": "4e263199-c974-47e5-9690-74fc37ffce05",
   "metadata": {},
   "source": [
    "\n"
   ]
  },
  {
   "cell_type": "markdown",
   "id": "2d20cab7-df7a-433c-9925-d3e289bf6ccc",
   "metadata": {},
   "source": [
    "## OKTA Phishing Detection with FastPass"
   ]
  },
  {
   "cell_type": "code",
   "execution_count": null,
   "id": "909330be-10b7-4e68-b9a5-4df05ce25d54",
   "metadata": {},
   "outputs": [],
   "source": [
    "\n",
    "# Filter the DataFrame based on the specified conditions\n",
    "filtered_df = df[\n",
    "    (df['eventType'] == 'user.authentication.auth_via_mfa') & \n",
    "    (df['result'] == 'FAILURE') & \n",
    "    (df['outcome.reason'] == 'FastPass declined phishing attempt')\n",
    "]\n",
    "\n",
    "\n",
    "result_df = filtered_df.drop_duplicates(subset=['client.ipAddress'])\n",
    "result_df.reset_index(drop=True, inplace=True)\n",
    "\n",
    "result_df"
   ]
  },
  {
   "cell_type": "markdown",
   "id": "6b39c6ba-cc6c-4ecd-b9bf-3dcc749bc4eb",
   "metadata": {},
   "source": [
    "\n"
   ]
  },
  {
   "cell_type": "markdown",
   "id": "d5bd2c4e-23ef-4dcf-8600-bb55badbd449",
   "metadata": {},
   "source": [
    "## Brainstorming Ideas"
   ]
  },
  {
   "cell_type": "code",
   "execution_count": null,
   "id": "92651ee3-99de-44c8-93a0-3572bfd04f1d",
   "metadata": {},
   "outputs": [],
   "source": [
    "from faker import Faker\n",
    "import ipaddress\n",
    "import random\n",
    "\n",
    "faker = Faker()\n",
    "\n",
    "df['Fake Name'] = [faker.name() for _ in range(len(df))]\n",
    "df['Fake Email'] = [f'{name.lower().replace(\" \", \".\")}@milkyway.com' for name in df['Fake Name']]\n",
    "df['Fake IP'] = [str(ipaddress.IPv4Address(random.getrandbits(32))) for _ in range(len(df))]\n"
   ]
  },
  {
   "cell_type": "markdown",
   "id": "83f59624",
   "metadata": {},
   "source": [
    "*Interesting Event Types*\n",
    "\n",
    " - user.mfa.attempt_bypass\n",
    "\n",
    " - user.session.access_admin_app\n",
    "\n",
    " - app.user_management.push_okta_password_update\n",
    "\n",
    " - application.policy.sign_on.deny_access\n",
    "\n",
    " - user.authentication.auth_via_richclient"
   ]
  },
  {
   "cell_type": "code",
   "execution_count": null,
   "id": "02a00963-19e3-4cb4-98a8-2ce76a616e99",
   "metadata": {
    "collapsed": true,
    "jupyter": {
     "outputs_hidden": true
    },
    "tags": []
   },
   "outputs": [],
   "source": [
    "G = nx.Graph()\n",
    "#G = nx.from_pandas_edgelist(df, 'client.userAgent.rawUserAgent','client.ipAddress')\n",
    "G = nx.from_pandas_edgelist(df, 'client.userAgent.rawUserAgent','actor.alternateId')\n",
    "\n",
    "part = community.community_louvain.best_partition(G)\n",
    "values = [part.get(node) for node in G.nodes()]\n",
    "\n",
    "figure(figsize=(25, 20))\n",
    "nx.draw_networkx(G, node_color=values,with_labels=False)"
   ]
  },
  {
   "cell_type": "markdown",
   "id": "35cce2f7",
   "metadata": {},
   "source": [
    "*Fun Exercise*\n",
    "\n",
    "Map these detections into MITRE ATT&CK Framework"
   ]
  },
  {
   "cell_type": "markdown",
   "id": "2f5a17e1-28fa-4225-80d4-07896d4c3a1e",
   "metadata": {},
   "source": [
    "## References"
   ]
  },
  {
   "cell_type": "markdown",
   "id": "a5440e1c-67ab-4b1a-ae5d-6320c70f5fc5",
   "metadata": {},
   "source": [
    " - https://developer.okta.com/docs/reference/api/system-log/\n",
    " - https://sec.okta.com/shareddetections\n",
    " - https://help.okta.com/oie/en-us/content/topics/identity-engine/oie-get-started.htm\n",
    " - https://www.rezonate.io/blog/okta-logs-decoded-unveiling-identity-threats-through-threat-hunting/\n",
    " - https://www.rezonate.io/blog/okta-threat-hunting-auditing-okta-logs-part-2/\n",
    " - https://medium.com/threatpunter/okta-threat-hunting-tips-62dc0013d526\n",
    " - https://research.splunk.com/application/71ad47d1-d6bd-4e0a-b35c-020ad9a6959e/"
   ]
  },
  {
   "cell_type": "code",
   "execution_count": null,
   "id": "fb1409d6-fce2-4924-8508-91f65fdc2666",
   "metadata": {},
   "outputs": [],
   "source": []
  }
 ],
 "metadata": {
  "kernelspec": {
   "display_name": "Python 3 (ipykernel)",
   "language": "python",
   "name": "python3"
  },
  "language_info": {
   "codemirror_mode": {
    "name": "ipython",
    "version": 3
   },
   "file_extension": ".py",
   "mimetype": "text/x-python",
   "name": "python",
   "nbconvert_exporter": "python",
   "pygments_lexer": "ipython3",
   "version": "3.11.1"
  }
 },
 "nbformat": 4,
 "nbformat_minor": 5
}
